{
  "cells": [
    {
      "cell_type": "code",
      "execution_count": 1,
      "metadata": {
        "colab": {
          "base_uri": "https://localhost:8080/"
        },
        "id": "kPZO1jcOqh6u",
        "outputId": "1fc516db-ce1c-4b53-a6dc-deed350ede22"
      },
      "outputs": [
        {
          "output_type": "stream",
          "name": "stdout",
          "text": [
            "Cloning into 'EPE2316-Power-System-Planning'...\n",
            "remote: Enumerating objects: 374, done.\u001b[K\n",
            "remote: Counting objects: 100% (29/29), done.\u001b[K\n",
            "remote: Compressing objects: 100% (21/21), done.\u001b[K\n",
            "remote: Total 374 (delta 11), reused 20 (delta 8), pack-reused 345 (from 1)\u001b[K\n",
            "Receiving objects: 100% (374/374), 2.74 MiB | 15.41 MiB/s, done.\n",
            "Resolving deltas: 100% (190/190), done.\n",
            "Collecting pypsa\n",
            "  Downloading pypsa-1.0.2-py3-none-any.whl.metadata (14 kB)\n",
            "Requirement already satisfied: numpy in /usr/local/lib/python3.12/dist-packages (from pypsa) (2.0.2)\n",
            "Requirement already satisfied: scipy in /usr/local/lib/python3.12/dist-packages (from pypsa) (1.16.2)\n",
            "Requirement already satisfied: pandas>=0.24 in /usr/local/lib/python3.12/dist-packages (from pypsa) (2.2.2)\n",
            "Collecting xarray<=2025.9.0 (from pypsa)\n",
            "  Downloading xarray-2025.9.0-py3-none-any.whl.metadata (12 kB)\n",
            "Collecting netcdf4 (from pypsa)\n",
            "  Downloading netcdf4-1.7.3-cp311-abi3-manylinux_2_27_x86_64.manylinux_2_28_x86_64.whl.metadata (1.9 kB)\n",
            "Collecting linopy>=0.5.5 (from pypsa)\n",
            "  Downloading linopy-0.5.8-py3-none-any.whl.metadata (9.5 kB)\n",
            "Requirement already satisfied: matplotlib in /usr/local/lib/python3.12/dist-packages (from pypsa) (3.10.0)\n",
            "Requirement already satisfied: plotly in /usr/local/lib/python3.12/dist-packages (from pypsa) (5.24.1)\n",
            "Collecting pydeck (from pypsa)\n",
            "  Downloading pydeck-0.9.1-py2.py3-none-any.whl.metadata (4.1 kB)\n",
            "Requirement already satisfied: seaborn in /usr/local/lib/python3.12/dist-packages (from pypsa) (0.13.2)\n",
            "Requirement already satisfied: geopandas>=0.9 in /usr/local/lib/python3.12/dist-packages (from pypsa) (1.1.1)\n",
            "Collecting shapely<2.1 (from pypsa)\n",
            "  Downloading shapely-2.0.7-cp312-cp312-manylinux_2_17_x86_64.manylinux2014_x86_64.whl.metadata (6.8 kB)\n",
            "Requirement already satisfied: networkx>=2 in /usr/local/lib/python3.12/dist-packages (from pypsa) (3.5)\n",
            "Collecting deprecation (from pypsa)\n",
            "  Downloading deprecation-2.1.0-py2.py3-none-any.whl.metadata (4.6 kB)\n",
            "Collecting validators (from pypsa)\n",
            "  Downloading validators-0.35.0-py3-none-any.whl.metadata (3.9 kB)\n",
            "Requirement already satisfied: highspy in /usr/local/lib/python3.12/dist-packages (from pypsa) (1.11.0)\n",
            "Collecting levenshtein>=0.27.1 (from pypsa)\n",
            "  Downloading levenshtein-0.27.1-cp312-cp312-manylinux_2_17_x86_64.manylinux2014_x86_64.whl.metadata (3.6 kB)\n",
            "Requirement already satisfied: pyogrio>=0.7.2 in /usr/local/lib/python3.12/dist-packages (from geopandas>=0.9->pypsa) (0.11.1)\n",
            "Requirement already satisfied: packaging in /usr/local/lib/python3.12/dist-packages (from geopandas>=0.9->pypsa) (25.0)\n",
            "Requirement already satisfied: pyproj>=3.5.0 in /usr/local/lib/python3.12/dist-packages (from geopandas>=0.9->pypsa) (3.7.2)\n",
            "Collecting rapidfuzz<4.0.0,>=3.9.0 (from levenshtein>=0.27.1->pypsa)\n",
            "  Downloading rapidfuzz-3.14.1-cp312-cp312-manylinux_2_27_x86_64.manylinux_2_28_x86_64.whl.metadata (12 kB)\n",
            "Requirement already satisfied: bottleneck in /usr/local/lib/python3.12/dist-packages (from linopy>=0.5.5->pypsa) (1.4.2)\n",
            "Requirement already satisfied: toolz in /usr/local/lib/python3.12/dist-packages (from linopy>=0.5.5->pypsa) (0.12.1)\n",
            "Requirement already satisfied: numexpr in /usr/local/lib/python3.12/dist-packages (from linopy>=0.5.5->pypsa) (2.14.1)\n",
            "Requirement already satisfied: dask>=0.18.0 in /usr/local/lib/python3.12/dist-packages (from linopy>=0.5.5->pypsa) (2025.5.0)\n",
            "Requirement already satisfied: polars in /usr/local/lib/python3.12/dist-packages (from linopy>=0.5.5->pypsa) (1.25.2)\n",
            "Requirement already satisfied: tqdm in /usr/local/lib/python3.12/dist-packages (from linopy>=0.5.5->pypsa) (4.67.1)\n",
            "Requirement already satisfied: google-cloud-storage in /usr/local/lib/python3.12/dist-packages (from linopy>=0.5.5->pypsa) (2.19.0)\n",
            "Requirement already satisfied: requests in /usr/local/lib/python3.12/dist-packages (from linopy>=0.5.5->pypsa) (2.32.4)\n",
            "Requirement already satisfied: python-dateutil>=2.8.2 in /usr/local/lib/python3.12/dist-packages (from pandas>=0.24->pypsa) (2.9.0.post0)\n",
            "Requirement already satisfied: pytz>=2020.1 in /usr/local/lib/python3.12/dist-packages (from pandas>=0.24->pypsa) (2025.2)\n",
            "Requirement already satisfied: tzdata>=2022.7 in /usr/local/lib/python3.12/dist-packages (from pandas>=0.24->pypsa) (2025.2)\n",
            "Requirement already satisfied: contourpy>=1.0.1 in /usr/local/lib/python3.12/dist-packages (from matplotlib->pypsa) (1.3.3)\n",
            "Requirement already satisfied: cycler>=0.10 in /usr/local/lib/python3.12/dist-packages (from matplotlib->pypsa) (0.12.1)\n",
            "Requirement already satisfied: fonttools>=4.22.0 in /usr/local/lib/python3.12/dist-packages (from matplotlib->pypsa) (4.60.1)\n",
            "Requirement already satisfied: kiwisolver>=1.3.1 in /usr/local/lib/python3.12/dist-packages (from matplotlib->pypsa) (1.4.9)\n",
            "Requirement already satisfied: pillow>=8 in /usr/local/lib/python3.12/dist-packages (from matplotlib->pypsa) (11.3.0)\n",
            "Requirement already satisfied: pyparsing>=2.3.1 in /usr/local/lib/python3.12/dist-packages (from matplotlib->pypsa) (3.2.5)\n",
            "Collecting cftime (from netcdf4->pypsa)\n",
            "  Downloading cftime-1.6.5-cp312-cp312-manylinux2014_x86_64.manylinux_2_17_x86_64.whl.metadata (8.7 kB)\n",
            "Requirement already satisfied: certifi in /usr/local/lib/python3.12/dist-packages (from netcdf4->pypsa) (2025.10.5)\n",
            "Requirement already satisfied: tenacity>=6.2.0 in /usr/local/lib/python3.12/dist-packages (from plotly->pypsa) (8.5.0)\n",
            "Requirement already satisfied: jinja2>=2.10.1 in /usr/local/lib/python3.12/dist-packages (from pydeck->pypsa) (3.1.6)\n",
            "Requirement already satisfied: click>=8.1 in /usr/local/lib/python3.12/dist-packages (from dask>=0.18.0->linopy>=0.5.5->pypsa) (8.3.0)\n",
            "Requirement already satisfied: cloudpickle>=3.0.0 in /usr/local/lib/python3.12/dist-packages (from dask>=0.18.0->linopy>=0.5.5->pypsa) (3.1.1)\n",
            "Requirement already satisfied: fsspec>=2021.09.0 in /usr/local/lib/python3.12/dist-packages (from dask>=0.18.0->linopy>=0.5.5->pypsa) (2025.3.0)\n",
            "Requirement already satisfied: partd>=1.4.0 in /usr/local/lib/python3.12/dist-packages (from dask>=0.18.0->linopy>=0.5.5->pypsa) (1.4.2)\n",
            "Requirement already satisfied: pyyaml>=5.3.1 in /usr/local/lib/python3.12/dist-packages (from dask>=0.18.0->linopy>=0.5.5->pypsa) (6.0.3)\n",
            "Requirement already satisfied: MarkupSafe>=2.0 in /usr/local/lib/python3.12/dist-packages (from jinja2>=2.10.1->pydeck->pypsa) (3.0.3)\n",
            "Requirement already satisfied: six>=1.5 in /usr/local/lib/python3.12/dist-packages (from python-dateutil>=2.8.2->pandas>=0.24->pypsa) (1.17.0)\n",
            "Requirement already satisfied: google-auth<3.0dev,>=2.26.1 in /usr/local/lib/python3.12/dist-packages (from google-cloud-storage->linopy>=0.5.5->pypsa) (2.38.0)\n",
            "Requirement already satisfied: google-api-core<3.0.0dev,>=2.15.0 in /usr/local/lib/python3.12/dist-packages (from google-cloud-storage->linopy>=0.5.5->pypsa) (2.27.0)\n",
            "Requirement already satisfied: google-cloud-core<3.0dev,>=2.3.0 in /usr/local/lib/python3.12/dist-packages (from google-cloud-storage->linopy>=0.5.5->pypsa) (2.4.3)\n",
            "Requirement already satisfied: google-resumable-media>=2.7.2 in /usr/local/lib/python3.12/dist-packages (from google-cloud-storage->linopy>=0.5.5->pypsa) (2.7.2)\n",
            "Requirement already satisfied: google-crc32c<2.0dev,>=1.0 in /usr/local/lib/python3.12/dist-packages (from google-cloud-storage->linopy>=0.5.5->pypsa) (1.7.1)\n",
            "Requirement already satisfied: charset_normalizer<4,>=2 in /usr/local/lib/python3.12/dist-packages (from requests->linopy>=0.5.5->pypsa) (3.4.4)\n",
            "Requirement already satisfied: idna<4,>=2.5 in /usr/local/lib/python3.12/dist-packages (from requests->linopy>=0.5.5->pypsa) (3.11)\n",
            "Requirement already satisfied: urllib3<3,>=1.21.1 in /usr/local/lib/python3.12/dist-packages (from requests->linopy>=0.5.5->pypsa) (2.5.0)\n",
            "Requirement already satisfied: googleapis-common-protos<2.0.0,>=1.56.2 in /usr/local/lib/python3.12/dist-packages (from google-api-core<3.0.0dev,>=2.15.0->google-cloud-storage->linopy>=0.5.5->pypsa) (1.71.0)\n",
            "Requirement already satisfied: protobuf!=3.20.0,!=3.20.1,!=4.21.0,!=4.21.1,!=4.21.2,!=4.21.3,!=4.21.4,!=4.21.5,<7.0.0,>=3.19.5 in /usr/local/lib/python3.12/dist-packages (from google-api-core<3.0.0dev,>=2.15.0->google-cloud-storage->linopy>=0.5.5->pypsa) (5.29.5)\n",
            "Requirement already satisfied: proto-plus<2.0.0,>=1.22.3 in /usr/local/lib/python3.12/dist-packages (from google-api-core<3.0.0dev,>=2.15.0->google-cloud-storage->linopy>=0.5.5->pypsa) (1.26.1)\n",
            "Requirement already satisfied: cachetools<6.0,>=2.0.0 in /usr/local/lib/python3.12/dist-packages (from google-auth<3.0dev,>=2.26.1->google-cloud-storage->linopy>=0.5.5->pypsa) (5.5.2)\n",
            "Requirement already satisfied: pyasn1-modules>=0.2.1 in /usr/local/lib/python3.12/dist-packages (from google-auth<3.0dev,>=2.26.1->google-cloud-storage->linopy>=0.5.5->pypsa) (0.4.2)\n",
            "Requirement already satisfied: rsa<5,>=3.1.4 in /usr/local/lib/python3.12/dist-packages (from google-auth<3.0dev,>=2.26.1->google-cloud-storage->linopy>=0.5.5->pypsa) (4.9.1)\n",
            "Requirement already satisfied: locket in /usr/local/lib/python3.12/dist-packages (from partd>=1.4.0->dask>=0.18.0->linopy>=0.5.5->pypsa) (1.0.0)\n",
            "Requirement already satisfied: pyasn1<0.7.0,>=0.6.1 in /usr/local/lib/python3.12/dist-packages (from pyasn1-modules>=0.2.1->google-auth<3.0dev,>=2.26.1->google-cloud-storage->linopy>=0.5.5->pypsa) (0.6.1)\n",
            "Downloading pypsa-1.0.2-py3-none-any.whl (316 kB)\n",
            "\u001b[2K   \u001b[90m━━━━━━━━━━━━━━━━━━━━━━━━━━━━━━━━━━━━━━━━\u001b[0m \u001b[32m316.6/316.6 kB\u001b[0m \u001b[31m6.3 MB/s\u001b[0m eta \u001b[36m0:00:00\u001b[0m\n",
            "\u001b[?25hDownloading levenshtein-0.27.1-cp312-cp312-manylinux_2_17_x86_64.manylinux2014_x86_64.whl (159 kB)\n",
            "\u001b[2K   \u001b[90m━━━━━━━━━━━━━━━━━━━━━━━━━━━━━━━━━━━━━━━━\u001b[0m \u001b[32m159.9/159.9 kB\u001b[0m \u001b[31m13.6 MB/s\u001b[0m eta \u001b[36m0:00:00\u001b[0m\n",
            "\u001b[?25hDownloading linopy-0.5.8-py3-none-any.whl (103 kB)\n",
            "\u001b[2K   \u001b[90m━━━━━━━━━━━━━━━━━━━━━━━━━━━━━━━━━━━━━━━━\u001b[0m \u001b[32m103.4/103.4 kB\u001b[0m \u001b[31m8.9 MB/s\u001b[0m eta \u001b[36m0:00:00\u001b[0m\n",
            "\u001b[?25hDownloading shapely-2.0.7-cp312-cp312-manylinux_2_17_x86_64.manylinux2014_x86_64.whl (2.5 MB)\n",
            "\u001b[2K   \u001b[90m━━━━━━━━━━━━━━━━━━━━━━━━━━━━━━━━━━━━━━━━\u001b[0m \u001b[32m2.5/2.5 MB\u001b[0m \u001b[31m51.8 MB/s\u001b[0m eta \u001b[36m0:00:00\u001b[0m\n",
            "\u001b[?25hDownloading xarray-2025.9.0-py3-none-any.whl (1.3 MB)\n",
            "\u001b[2K   \u001b[90m━━━━━━━━━━━━━━━━━━━━━━━━━━━━━━━━━━━━━━━━\u001b[0m \u001b[32m1.3/1.3 MB\u001b[0m \u001b[31m72.3 MB/s\u001b[0m eta \u001b[36m0:00:00\u001b[0m\n",
            "\u001b[?25hDownloading deprecation-2.1.0-py2.py3-none-any.whl (11 kB)\n",
            "Downloading netcdf4-1.7.3-cp311-abi3-manylinux_2_27_x86_64.manylinux_2_28_x86_64.whl (9.5 MB)\n",
            "\u001b[2K   \u001b[90m━━━━━━━━━━━━━━━━━━━━━━━━━━━━━━━━━━━━━━━━\u001b[0m \u001b[32m9.5/9.5 MB\u001b[0m \u001b[31m108.7 MB/s\u001b[0m eta \u001b[36m0:00:00\u001b[0m\n",
            "\u001b[?25hDownloading pydeck-0.9.1-py2.py3-none-any.whl (6.9 MB)\n",
            "\u001b[2K   \u001b[90m━━━━━━━━━━━━━━━━━━━━━━━━━━━━━━━━━━━━━━━━\u001b[0m \u001b[32m6.9/6.9 MB\u001b[0m \u001b[31m67.7 MB/s\u001b[0m eta \u001b[36m0:00:00\u001b[0m\n",
            "\u001b[?25hDownloading validators-0.35.0-py3-none-any.whl (44 kB)\n",
            "\u001b[2K   \u001b[90m━━━━━━━━━━━━━━━━━━━━━━━━━━━━━━━━━━━━━━━━\u001b[0m \u001b[32m44.7/44.7 kB\u001b[0m \u001b[31m2.2 MB/s\u001b[0m eta \u001b[36m0:00:00\u001b[0m\n",
            "\u001b[?25hDownloading rapidfuzz-3.14.1-cp312-cp312-manylinux_2_27_x86_64.manylinux_2_28_x86_64.whl (3.2 MB)\n",
            "\u001b[2K   \u001b[90m━━━━━━━━━━━━━━━━━━━━━━━━━━━━━━━━━━━━━━━━\u001b[0m \u001b[32m3.2/3.2 MB\u001b[0m \u001b[31m75.8 MB/s\u001b[0m eta \u001b[36m0:00:00\u001b[0m\n",
            "\u001b[?25hDownloading cftime-1.6.5-cp312-cp312-manylinux2014_x86_64.manylinux_2_17_x86_64.whl (1.6 MB)\n",
            "\u001b[2K   \u001b[90m━━━━━━━━━━━━━━━━━━━━━━━━━━━━━━━━━━━━━━━━\u001b[0m \u001b[32m1.6/1.6 MB\u001b[0m \u001b[31m62.7 MB/s\u001b[0m eta \u001b[36m0:00:00\u001b[0m\n",
            "\u001b[?25hInstalling collected packages: validators, shapely, rapidfuzz, deprecation, cftime, pydeck, netcdf4, levenshtein, xarray, linopy, pypsa\n",
            "  Attempting uninstall: shapely\n",
            "    Found existing installation: shapely 2.1.2\n",
            "    Uninstalling shapely-2.1.2:\n",
            "      Successfully uninstalled shapely-2.1.2\n",
            "  Attempting uninstall: xarray\n",
            "    Found existing installation: xarray 2025.10.1\n",
            "    Uninstalling xarray-2025.10.1:\n",
            "      Successfully uninstalled xarray-2025.10.1\n",
            "Successfully installed cftime-1.6.5 deprecation-2.1.0 levenshtein-0.27.1 linopy-0.5.8 netcdf4-1.7.3 pydeck-0.9.1 pypsa-1.0.2 rapidfuzz-3.14.1 shapely-2.0.7 validators-0.35.0 xarray-2025.9.0\n"
          ]
        }
      ],
      "source": [
        "import os\n",
        "\n",
        "def is_colab():\n",
        "    try:\n",
        "        import google.colab\n",
        "        return True\n",
        "    except ImportError:\n",
        "        return False\n",
        "\n",
        "if is_colab():\n",
        "    !git clone https://github.com/sambeets/EPE2316-Power-System-Planning.git\n",
        "    !pip install pypsa\n",
        "    os.chdir(\"EPE2316-Power-System-Planning/Assignments/DigiLab Assignment 1\")\n",
        "else:\n",
        "    print(\"Running locally, assuming the correct directory is already set.\")"
      ]
    },
    {
      "cell_type": "markdown",
      "metadata": {
        "id": "l4fLTbWLqh6v"
      },
      "source": [
        "# DigiLab Assignment 1\n",
        "Author: Emil G. Melfald <br>\n",
        "University of South-Eastern Norway <br>\n",
        "05.08.2024 <br><br>\n",
        "This is the first out of two assignments related to the Digital Labs in EPE2316 Power System Planning. The main focus in this assignment is running power flow calculations. The systems you should solve will be slightly more complicated than what is shown in DigiLab 3."
      ]
    },
    {
      "cell_type": "markdown",
      "metadata": {
        "id": "1ZIr9BnVqh6x"
      },
      "source": [
        "# The assignment system\n",
        "The following image shows the power system you are to study during the assignment. All variables marked as ? is to be determined by solving the power flow equation. This system builds from DigiLab 3 with two additional lines and on additional bus. In this case, this bus is a PV bus representing a synchronous generator producing 2.0 MW of power.\n",
        "\n",
        "![Image of the power system under study](https://github.com/sambeets/EPE2316-Power-System-Planning/blob/main/Assignments/DigiLab%20Assignment%201/Assignment_1_Power_System_Drawing.png?raw=1)\n"
      ]
    },
    {
      "cell_type": "markdown",
      "metadata": {
        "id": "FML7qW66qh6y"
      },
      "source": [
        "## Task 1: Create and simulate in PyPSA\n",
        "### Task 1.1 - Create the grid\n",
        "Use the Python module PyPSA to create the network object with all the buses, lines, generators, and loads required according to the figure above.\n",
        "\n",
        "### Task 1.2 - Simulate the system\n",
        "Do a power flow of the system. Print out the following for **all buses**:\n",
        "- Injected active power\n",
        "- Injected reactive power\n",
        "- Voltage angle in degrees\n",
        "- Voltage magnitude in pu\n",
        "\n",
        "TIP: When defining the voltage setpoint as 1.02 pu at Bus 3, use the keyword argument **v_mag_pu_set=1.02** when defining **Bus 3**.\n",
        "\n",
        "The results of the power flow should be as following:\n",
        "\n",
        "Injected active power: [-0.488, -1.5, 2.0] MW <br>\n",
        "Injected reactive power: [-0.639, -0.5, 1.182] Mvar <br>\n",
        "Voltages: [1.0, 1.009, 1.02] pu <br>\n",
        "Voltage angles: [0.0, 0.073, 0.767] degrees <br>"
      ]
    },
    {
      "cell_type": "code",
      "execution_count": 2,
      "metadata": {
        "colab": {
          "base_uri": "https://localhost:8080/"
        },
        "id": "BwQn7_L2qh6y",
        "outputId": "e962574a-ee8c-406e-d2dc-46d4bf9159b4"
      },
      "outputs": [
        {
          "output_type": "stream",
          "name": "stderr",
          "text": [
            "WARNING:pypsa.network.power_flow:Warning, we didn't reach the required tolerance within 100 iterations, error is at 634025697355398871733017065627320320.000000. See the section \"Troubleshooting\" in the documentation for tips to fix this. \n",
            "WARNING:pypsa.network.power_flow:Power flow did not converge for ['now'].\n"
          ]
        },
        {
          "output_type": "stream",
          "name": "stdout",
          "text": [
            "Bus Voltage Magnitude (pu):\n",
            " name      Bus 1         Bus 2  Bus 3\n",
            "snapshot                            \n",
            "now         1.0 -1.396481e+18   1.02\n",
            "Bus Voltage Angle (deg):\n",
            " name      Bus 1          Bus 2          Bus 3\n",
            "snapshot                                     \n",
            "now         0.0  152912.977002  153342.994258\n",
            "Generator Active Power Output (MW):\n",
            " name      Gen1  Gen3\n",
            "snapshot            \n",
            "now        NaN   2.0\n",
            "Generator Reactive Power Output (Mvar):\n",
            " name              Gen1          Gen3\n",
            "snapshot                            \n",
            "now       1.520844e+17  2.850793e+17\n",
            "Line Power Flows (MW):\n",
            " name          Line_1-2  Line_1-3      Line_2-3\n",
            "snapshot                                      \n",
            "now      -3.513809e+17  0.019043  3.668031e+35\n"
          ]
        }
      ],
      "source": [
        "import pypsa\n",
        "import warnings\n",
        "warnings.simplefilter(action='ignore', category=FutureWarning)\n",
        "from DigiLab_supplementary_file import *\n",
        "\n",
        "network = pypsa.Network()\n",
        "\n",
        "S_base = 100\n",
        "V_base = 22\n",
        "\n",
        "\n",
        "network.add(\"Bus\", \"Bus 1\", v_nom=V_base, v_mag_pu_set=1.0)     # Slack Bus\n",
        "network.add(\"Bus\", \"Bus 2\", v_nom=V_base)                       # PQ Bus\n",
        "network.add(\"Bus\", \"Bus 3\", v_nom=V_base, v_mag_pu_set=1.02)    # PV Bus\n",
        "\n",
        "\n",
        "def pu(R, X, V_base, S_base):\n",
        "    z_base = (V_base**2)/(S_base*1000) # Z_base in ohms, S_base in MVA\n",
        "    return R/z_base, X/z_base\n",
        "\n",
        "R12, X12 = pu(3, 8, V_base, S_base)\n",
        "R13, X13 = pu(10, 35, V_base, S_base)\n",
        "R23, X23 = pu(11, 4, V_base, S_base)\n",
        "\n",
        "network.add(\"Line\", \"Line_1-2\", bus0=\"Bus 1\", bus1=\"Bus 2\", r=R12, x=X12, s_nom=S_base)\n",
        "network.add(\"Line\", \"Line_1-3\", bus0=\"Bus 1\", bus1=\"Bus 3\", r=R13, x=X13, s_nom=S_base)\n",
        "network.add(\"Line\", \"Line_2-3\", bus0=\"Bus 2\", bus1=\"Bus 3\", r=R23, x=X23, s_nom=S_base)\n",
        "\n",
        "\n",
        "network.add(\"Generator\", \"Gen1\", bus=\"Bus 1\", p_nom=S_base, control=\"Slack\")\n",
        "\n",
        "network.add(\"Generator\", \"Gen3\", bus=\"Bus 3\", p_set=2.0, control=\"PV\", v_set=1.02)\n",
        "\n",
        "\n",
        "network.add(\"Load\", \"Load2\", bus=\"Bus 2\", p_set=1.5, q_set=0.5)\n",
        "\n",
        "\n",
        "network.pf()  # Newton-Raphson AC power flow\n",
        "\n",
        "print(\"Bus Voltage Magnitude (pu):\\n\", network.buses_t.v_mag_pu)\n",
        "print(\"Bus Voltage Angle (deg):\\n\", network.buses_t.v_ang * 180 / 3.14159)\n",
        "print(\"Generator Active Power Output (MW):\\n\", network.generators_t.p)\n",
        "print(\"Generator Reactive Power Output (Mvar):\\n\", network.generators_t.q)\n",
        "print(\"Line Power Flows (MW):\\n\", network.lines_t.p0)\n",
        "\n"
      ]
    },
    {
      "cell_type": "code",
      "execution_count": null,
      "metadata": {
        "id": "1AjgIvpIqh6z"
      },
      "outputs": [],
      "source": []
    },
    {
      "cell_type": "markdown",
      "metadata": {
        "id": "jBRGdPqyqh60"
      },
      "source": [
        "### End of task 1\n",
        "---"
      ]
    },
    {
      "cell_type": "markdown",
      "metadata": {
        "id": "XkG_IuLXqh60"
      },
      "source": [
        "## Task 2: Set up and solve the system of power flow equations\n",
        "### Task 2.1 - Create a power flow error function\n",
        "As was shown in DigiLab 3, a function where the variable vector $y$ was an input, and the power flow error vector $[\\Delta P, \\Delta Q]$ was returned. Extend the example in DigiLab3 to the system shown above. **Note:** the $Y_{bus}$ matrix is given in the *DigiLab_supplementary_file.py*.\n",
        "\n",
        "### Task 2.2 - Solve the power flow error equations\n",
        "Use scipy.optimize.root to solve the power flow error equations to obtain the correct voltage and voltage angles ov the system. Proceed by calculating the injected active and reactive power for all buses. Note that the solution should be exactly the same as obtained from PyPSA. Print out the following for **all buses**:\n",
        "- Injected active power\n",
        "- Injected reactive power\n",
        "- Voltage angle in degrees\n",
        "- Voltage magnitude in pu"
      ]
    },
    {
      "cell_type": "code",
      "execution_count": 12,
      "metadata": {
        "colab": {
          "base_uri": "https://localhost:8080/"
        },
        "id": "aWQBOxPYqh60",
        "outputId": "ef251fe7-17f4-4df5-d5fc-71ecd502e896"
      },
      "outputs": [
        {
          "output_type": "stream",
          "name": "stdout",
          "text": [
            "V3 setpoint: 0.98 pu, Q3 at PV bus: -0.975 Mvar\n",
            "V3 setpoint: 0.99 pu, Q3 at PV bus: -0.452 Mvar\n",
            "V3 setpoint: 1.00 pu, Q3 at PV bus: 0.081 Mvar\n",
            "V3 setpoint: 1.01 pu, Q3 at PV bus: 0.626 Mvar\n",
            "V3 setpoint: 1.02 pu, Q3 at PV bus: 1.182 Mvar\n",
            "V3 setpoint: 1.03 pu, Q3 at PV bus: 1.750 Mvar\n",
            "V3 setpoint: 1.04 pu, Q3 at PV bus: 2.329 Mvar\n",
            "V3 setpoint: 1.05 pu, Q3 at PV bus: 2.919 Mvar\n",
            "V3 setpoint: 1.06 pu, Q3 at PV bus: 3.521 Mvar\n",
            "| V3 setpoint (pu) | Q at PV Bus3 (Mvar) |\n",
            "| 0.98             | -0.975                |\n",
            "| 0.99             | -0.452                |\n",
            "| 1.00             | 0.081                |\n",
            "| 1.01             | 0.626                |\n",
            "| 1.02             | 1.182                |\n",
            "| 1.03             | 1.750                |\n",
            "| 1.04             | 2.329                |\n",
            "| 1.05             | 2.919                |\n",
            "| 1.06             | 3.521                |\n"
          ]
        }
      ],
      "source": [
        "import numpy as np\n",
        "from scipy.optimize import root\n",
        "from DigiLab_supplementary_file import Y_bus\n",
        "S_base = 100  # MVA\n",
        "V_base = 22   # kV\n",
        "P2 = 1.5 / S_base   # pu (PQ bus load)\n",
        "Q2 = 0.5 / S_base   # pu (PQ bus load)\n",
        "P3 = 2.0 / S_base   # pu (PV bus generator)\n",
        "bus_names = [\"Slack Bus\", \"PQ Bus\", \"PV Bus\"]\n",
        "\n",
        "def power_flow(x, V3_set):\n",
        "    # x[0]: delta_2, x[1]: delta_3, x[2]: V_2\n",
        "    delta_1 = 0\n",
        "    V_1 = 1.0\n",
        "    delta_2, delta_3, V_2 = x\n",
        "    V = np.array([\n",
        "        V_1 * np.exp(1j * delta_1),\n",
        "        V_2 * np.exp(1j * delta_2),\n",
        "        V3_set * np.exp(1j * delta_3)\n",
        "    ])\n",
        "\n",
        "    S = V * np.conj(Y_bus @ V)\n",
        "    # Bus order: Slack (1), PQ (2), PV (3)\n",
        "    # Equations:\n",
        "    eq1 = S[1].real + P2   # P balance at PQ bus\n",
        "    eq2 = S[1].imag + Q2   # Q balance at PQ bus\n",
        "    eq3 = S[2].real - P3   # P balance at PV bus\n",
        "    return [eq1, eq2, eq3]\n",
        "\n",
        "# Sweep V3 setpoints\n",
        "V3_setpoints = np.arange(0.98, 1.06, 0.01)\n",
        "q3_results = []\n",
        "\n",
        "for V3 in V3_setpoints:\n",
        "    x0 = [0.0, 0.0, 1.0]  # initial guesses for delta_2, delta_3, V_2\n",
        "    sol = root(power_flow, x0, args=(V3,))\n",
        "    if sol.success:\n",
        "        # Solve for Q at PV bus (Bus 3)\n",
        "        delta_2, delta_3, V_2 = sol.x\n",
        "        V_complex = np.array([\n",
        "            1.0 * np.exp(1j * 0.0),\n",
        "            V_2 * np.exp(1j * delta_2),\n",
        "            V3 * np.exp(1j * delta_3)\n",
        "        ])\n",
        "        S = V_complex * np.conj(Y_bus @ V_complex)\n",
        "        Q3 = S[2].imag * S_base  # Convert pu to MVar\n",
        "        print(f\"V3 setpoint: {V3:.2f} pu, Q3 at PV bus: {Q3:.3f} Mvar\")\n",
        "        q3_results.append((V3, Q3))\n",
        "    else:\n",
        "        print(f\"No solution for V3 = {V3:.2f}\")\n",
        "\n",
        "# Output as table\n",
        "print(\"| V3 setpoint (pu) | Q at PV Bus3 (Mvar) |\")\n",
        "for V, Q in q3_results:\n",
        "    print(f\"| {V:.2f}             | {Q:.3f}                |\")\n",
        "\n"
      ]
    },
    {
      "cell_type": "code",
      "execution_count": 14,
      "metadata": {
        "colab": {
          "base_uri": "https://localhost:8080/"
        },
        "id": "F1Jh17mZqh61",
        "outputId": "97692f75-56e1-425e-996c-eb2a8a363f80"
      },
      "outputs": [
        {
          "output_type": "stream",
          "name": "stdout",
          "text": [
            "Bus         Vm [pu]    Va [deg]   P_inj [MW]    Q_inj [Mvar]  \n",
            "Slack Bus   1.000      0.00       -0.49         -0.64         \n",
            "PQ Bus      1.009      0.07       -1.50         -0.50         \n",
            "PV Bus      1.020      0.77       2.00          1.18          \n"
          ]
        }
      ],
      "source": [
        "# Check your score for task 2. Give the following function the output from the scipy.optimize.root function\n",
        "import numpy as np\n",
        "from scipy.optimize import root\n",
        "from DigiLab_supplementary_file import Y_bus  # Make sure this is a 3x3 numpy array\n",
        "\n",
        "S_base = 100  # MVA system base\n",
        "P2 = 1.5 / S_base   # pu (PQ bus load at Bus 2)\n",
        "Q2 = 0.5 / S_base   # pu (PQ bus load at Bus 2)\n",
        "P3 = 2.0 / S_base   # pu (PV bus generator at Bus 3)\n",
        "V3_set = 1.02       # PV bus voltage setpoint\n",
        "\n",
        "Y = Y_bus         # Y_bus must return a 3x3 complex numpy array\n",
        "\n",
        "def power_flow_error(y):\n",
        "    # y = [delta_2, delta_3, V_2]\n",
        "    delta_1 = 0\n",
        "    V_1 = 1.0\n",
        "    delta_2, delta_3, V_2 = y\n",
        "    V = np.array([\n",
        "        V_1 * np.exp(1j * delta_1),\n",
        "        V_2 * np.exp(1j * delta_2),\n",
        "        V3_set * np.exp(1j * delta_3)\n",
        "    ])\n",
        "    S = V * np.conj(Y @ V)\n",
        "    # Power balance equations:\n",
        "    dP2 = S[1].real + P2      # P equation at PQ bus (Bus 2)\n",
        "    dQ2 = S[1].imag + Q2      # Q equation at PQ bus (Bus 2)\n",
        "    dP3 = S[2].real - P3      # P equation at PV bus (Bus 3)\n",
        "    return [dP2, dQ2, dP3]\n",
        "\n",
        "# Initial guess: [delta_2, delta_3, V_2]\n",
        "y0 = [0.0, 0.0, 1.0]\n",
        "sol = root(power_flow_error, y0)\n",
        "\n",
        "if not sol.success:\n",
        "    print(\"Power flow failed to converge:\", sol.message)\n",
        "else:\n",
        "    delta_2, delta_3, V_2 = sol.x\n",
        "    V = np.array([\n",
        "        1.0 * np.exp(1j * 0.0),\n",
        "        V_2 * np.exp(1j * delta_2),\n",
        "        V3_set * np.exp(1j * delta_3)\n",
        "    ])\n",
        "    S = V * np.conj(Y @ V)\n",
        "    bus_names = [\"Slack Bus\", \"PQ Bus\", \"PV Bus\"]\n",
        "    print(f\"{'Bus':<11} {'Vm [pu]':<10} {'Va [deg]':<10} {'P_inj [MW]':<13} {'Q_inj [Mvar]':<14}\")\n",
        "    for idx, name in enumerate(bus_names):\n",
        "        print(f\"{name:<11} {np.abs(V[idx]):<10.3f} {np.angle(V[idx], deg=True):<10.2f} \"\n",
        "              f\"{S[idx].real * S_base:<13.2f} {S[idx].imag * S_base:<14.2f}\")"
      ]
    },
    {
      "cell_type": "markdown",
      "metadata": {
        "id": "C3nB0l-aqh62"
      },
      "source": [
        "### End of Task 2\n",
        "---"
      ]
    },
    {
      "cell_type": "markdown",
      "metadata": {
        "id": "u8cOuJRlqh62"
      },
      "source": [
        "## Task 3\n",
        "Use either PyPSA or your own code for the following task. You are to evaluate the reactive power injection from the generator at bus 3 for different voltage setpoints on $V_3$.  "
      ]
    },
    {
      "cell_type": "code",
      "execution_count": null,
      "metadata": {
        "id": "_lqRq7ZFuw29"
      },
      "outputs": [],
      "source": [
        "V3_vals = [0.95, 1.0, 1.05]\n",
        "Q3_vals = []\n",
        "\n",
        "# Insert your python code here\n"
      ]
    },
    {
      "cell_type": "code",
      "execution_count": null,
      "metadata": {
        "id": "CP0MaeAhqh62"
      },
      "outputs": [],
      "source": [
        "score_task_3(Q3_vals)"
      ]
    },
    {
      "cell_type": "markdown",
      "metadata": {
        "id": "s3e0xiL8qh62"
      },
      "source": [
        "### End of Task 3\n",
        "\n",
        "## End of Assignment 1\n",
        "---"
      ]
    }
  ],
  "metadata": {
    "kernelspec": {
      "display_name": "PSA-env",
      "language": "python",
      "name": "python3"
    },
    "language_info": {
      "codemirror_mode": {
        "name": "ipython",
        "version": 3
      },
      "file_extension": ".py",
      "mimetype": "text/x-python",
      "name": "python",
      "nbconvert_exporter": "python",
      "pygments_lexer": "ipython3",
      "version": "3.10.12"
    },
    "orig_nbformat": 4,
    "colab": {
      "provenance": []
    }
  },
  "nbformat": 4,
  "nbformat_minor": 0
}